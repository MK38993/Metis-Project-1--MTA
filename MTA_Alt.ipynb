{
 "cells": [
  {
   "cell_type": "code",
   "execution_count": 18,
   "id": "da7fb360",
   "metadata": {},
   "outputs": [],
   "source": [
    "import pandas as pd\n",
    "from pandas import Series, DataFrame\n",
    "import matplotlib\n",
    "import numpy as np\n",
    "import matplotlib.pyplot as plt\n",
    "\n",
    "%run 'MTA-Lifetime Traffic_2021_07_12.ipynb'"
   ]
  },
  {
   "cell_type": "code",
   "execution_count": 19,
   "id": "c0fa2c82",
   "metadata": {},
   "outputs": [],
   "source": [
    "jul10link='http://web.mta.info/developers/data/nyct/turnstile/turnstile_210710.txt'\n",
    "jul10dateTimeStamp=\"07/09/2021,20:00:00\"\n",
    "mtadf=mta_tally(jul10link, jul10dateTimeStamp)"
   ]
  },
  {
   "cell_type": "code",
   "execution_count": 37,
   "id": "778eed8e",
   "metadata": {},
   "outputs": [],
   "source": [
    "# data1 = []\n",
    "# data2 = []\n",
    "# data3 = []\n",
    "\n",
    "# for item in mtadf['STATION NAME']:\n",
    "#     data1.append(item)\n",
    "# for item in mtadf['ENTRIES']:\n",
    "#     data2.append(item)\n",
    "# for item in mtadf['EXITS']:\n",
    "#     data3.append(item)\n",
    "    \n",
    "# data1=data1[:10]\n",
    "# data2=data2[:10]\n",
    "# data3=data3[:10]\n",
    "# width =0.5\n",
    "\n",
    "# plt.bar(data1, data1, width=width)\n",
    "# plt.bar(data1, data2, bottom=data1, width=width)\n",
    "# plt.bar(data1, data3, bottom=data1, width=width)\n",
    "# plt.show()"
   ]
  },
  {
   "cell_type": "code",
   "execution_count": 48,
   "id": "73679c26",
   "metadata": {},
   "outputs": [
    {
     "name": "stdout",
     "output_type": "stream",
     "text": [
      "118384541102 96362989589\n",
      "-22021551513\n",
      "0.8139828789467853\n"
     ]
    }
   ],
   "source": [
    "entries=mtadf['ENTRIES'].sum()\n",
    "exits=mtadf['EXITS'].sum()\n",
    "\n",
    "print(entries, exits)\n",
    "print(exits-entries)\n",
    "print(exits/entries)"
   ]
  },
  {
   "cell_type": "code",
   "execution_count": 49,
   "id": "5587cddb",
   "metadata": {},
   "outputs": [
    {
     "data": {
      "text/plain": [
       "1.2285270683996483"
      ]
     },
     "execution_count": 49,
     "metadata": {},
     "output_type": "execute_result"
    }
   ],
   "source": [
    "1/0.8139828789467853"
   ]
  },
  {
   "cell_type": "code",
   "execution_count": null,
   "id": "d894605d",
   "metadata": {},
   "outputs": [],
   "source": []
  }
 ],
 "metadata": {
  "kernelspec": {
   "display_name": "Python [conda env:metis] *",
   "language": "python",
   "name": "conda-env-metis-py"
  },
  "language_info": {
   "codemirror_mode": {
    "name": "ipython",
    "version": 3
   },
   "file_extension": ".py",
   "mimetype": "text/x-python",
   "name": "python",
   "nbconvert_exporter": "python",
   "pygments_lexer": "ipython3",
   "version": "3.8.10"
  }
 },
 "nbformat": 4,
 "nbformat_minor": 5
}
